{
 "cells": [
  {
   "cell_type": "markdown",
   "id": "bd83abdb-1a19-4990-bea5-25168c77da9c",
   "metadata": {},
   "source": [
    "First need to import the mnist dataset"
   ]
  },
  {
   "cell_type": "code",
   "execution_count": 1,
   "id": "7e636f3a-35ea-4511-852a-c41a5ec3755b",
   "metadata": {},
   "outputs": [],
   "source": [
    "from torchvision import datasets, transforms\n",
    "import torch\n",
    "import torch.nn as nn\n",
    "import torch.nn.functional as F\n",
    "import torch.optim as optim\n",
    "import matplotlib.pyplot as plt"
   ]
  },
  {
   "cell_type": "code",
   "execution_count": 2,
   "id": "104e7681-9584-48c5-8fe0-0f7262e9d5dc",
   "metadata": {},
   "outputs": [],
   "source": [
    "\n",
    "if torch.cuda.is_available():\n",
    "    device = torch.device(\"cuda\")\n",
    "else:\n",
    "    device = torch.device(\"cpu\")"
   ]
  },
  {
   "cell_type": "code",
   "execution_count": 3,
   "id": "e5fa440d-8d99-4c09-9b32-e889f5901c63",
   "metadata": {},
   "outputs": [
    {
     "name": "stdout",
     "output_type": "stream",
     "text": [
      "cuda\n"
     ]
    }
   ],
   "source": [
    "print(device)"
   ]
  },
  {
   "cell_type": "code",
   "execution_count": 4,
   "id": "61f72937-606f-43f0-8945-ac694d07ab0c",
   "metadata": {},
   "outputs": [],
   "source": [
    "transform=transforms.Compose([transforms.ToTensor()])\n",
    "dataset1 = datasets.MNIST('./data', train=True, download=True,transform=transform)"
   ]
  },
  {
   "cell_type": "code",
   "execution_count": 5,
   "id": "e0a59433-1863-41ea-9d98-c57ff018e402",
   "metadata": {},
   "outputs": [],
   "source": [
    "train_kwargs = {'batch_size': 64}\n",
    "train_loader = torch.utils.data.DataLoader(dataset1,**train_kwargs, shuffle=True)\n"
   ]
  },
  {
   "cell_type": "code",
   "execution_count": 6,
   "id": "e9844436-4257-4c10-aa9a-ef5906adcfed",
   "metadata": {},
   "outputs": [
    {
     "data": {
      "image/png": "[encoded data removed]",
      "text/plain": [
       "<Figure size 800x800 with 9 Axes>"
      ]
     },
     "metadata": {},
     "output_type": "display_data"
    }
   ],
   "source": [
    "figure = plt.figure(figsize=(8, 8))\n",
    "cols, rows = 3, 3\n",
    "for i in range(1, cols * rows + 1):\n",
    "    train_features, train_labels = next(iter(train_loader))\n",
    "    figure.add_subplot(rows, cols, i)\n",
    "    plt.axis(\"off\")\n",
    "    img = train_features[0].squeeze()\n",
    "    label = train_labels[0]\n",
    "    plt.title(label)\n",
    "    plt.imshow(img.squeeze(), cmap=\"gray\")\n",
    "plt.show()"
   ]
  },
  {
   "cell_type": "markdown",
   "id": "b14c7469-6e89-482c-8a26-a5d689b4dd52",
   "metadata": {},
   "source": [
    "32 = batch size\n",
    "1 = channels, only one here since its grayscale\n",
    "28x28 = pixels\n",
    "y = label"
   ]
  },
  {
   "cell_type": "code",
   "execution_count": 7,
   "id": "193cf6e7-667d-4406-83eb-7028015f3e75",
   "metadata": {},
   "outputs": [
    {
     "name": "stdout",
     "output_type": "stream",
     "text": [
      "Shape of X [N, C, H, W]: torch.Size([64, 28, 28])\n"
     ]
    }
   ],
   "source": [
    "for X, y in train_loader:\n",
    "    Xf = torch.flatten(X, end_dim=1)\n",
    "    print(f\"Shape of X [N, C, H, W]: {Xf.shape}\")\n",
    "    #print(f\"C has type {X[0][0].dtype} and value {X[0]}\")\n",
    "    #print(f\"Shape of y: {y.shape} {y.dtype} {y}\")\n",
    "    break"
   ]
  },
  {
   "cell_type": "markdown",
   "id": "77a83340-76ef-4021-8841-b79fbde50e50",
   "metadata": {},
   "source": [
    "if we want to get all the threes we will need to pull all the ones that match a given label\n"
   ]
  },
  {
   "cell_type": "code",
   "execution_count": 8,
   "id": "38d76515-608a-4e00-bdf8-606a3aa5f3ca",
   "metadata": {},
   "outputs": [
    {
     "name": "stdout",
     "output_type": "stream",
     "text": [
      "Shape of X [C, H, W]: torch.Size([1, 28, 28])\n",
      "C has type torch.float32 and value tensor([[0.0000, 0.0000, 0.0000, 0.0000, 0.0000, 0.0000, 0.0000, 0.0000, 0.0000,\n",
      "         0.0000, 0.0000, 0.0000, 0.0000, 0.0000, 0.0000, 0.0000, 0.0000, 0.0000,\n",
      "         0.0000, 0.0000, 0.0000, 0.0000, 0.0000, 0.0000, 0.0000, 0.0000, 0.0000,\n",
      "         0.0000],\n",
      "        [0.0000, 0.0000, 0.0000, 0.0000, 0.0000, 0.0000, 0.0000, 0.0000, 0.0000,\n",
      "         0.0000, 0.0000, 0.0000, 0.0000, 0.0000, 0.0000, 0.0000, 0.0000, 0.0000,\n",
      "         0.0000, 0.0000, 0.0000, 0.0000, 0.0000, 0.0000, 0.0000, 0.0000, 0.0000,\n",
      "         0.0000],\n",
      "        [0.0000, 0.0000, 0.0000, 0.0000, 0.0000, 0.0000, 0.0000, 0.0000, 0.0000,\n",
      "         0.0000, 0.0000, 0.0000, 0.0000, 0.0000, 0.0000, 0.0000, 0.0000, 0.0000,\n",
      "         0.0000, 0.0000, 0.0000, 0.0000, 0.0000, 0.0000, 0.0000, 0.0000, 0.0000,\n",
      "         0.0000],\n",
      "        [0.0000, 0.0000, 0.0000, 0.0000, 0.0000, 0.0000, 0.0000, 0.0000, 0.0000,\n",
      "         0.0000, 0.0000, 0.0000, 0.0000, 0.0000, 0.0000, 0.0000, 0.0000, 0.0000,\n",
      "         0.0000, 0.0000, 0.0000, 0.0000, 0.0000, 0.0000, 0.0000, 0.0000, 0.0000,\n",
      "         0.0000],\n",
      "        [0.0000, 0.0000, 0.0000, 0.0000, 0.0000, 0.0000, 0.0000, 0.0000, 0.0000,\n",
      "         0.0000, 0.0000, 0.0000, 0.0000, 0.0000, 0.0000, 0.0000, 0.0000, 0.0000,\n",
      "         0.0000, 0.0000, 0.0000, 0.0000, 0.0000, 0.0000, 0.0000, 0.0000, 0.0000,\n",
      "         0.0000],\n",
      "        [0.0000, 0.0000, 0.0000, 0.0000, 0.0000, 0.0000, 0.0000, 0.0000, 0.0000,\n",
      "         0.0000, 0.0000, 0.0000, 0.0118, 0.0706, 0.0706, 0.0706, 0.4941, 0.5333,\n",
      "         0.6863, 0.1020, 0.6510, 1.0000, 0.9686, 0.4980, 0.0000, 0.0000, 0.0000,\n",
      "         0.0000],\n",
      "        [0.0000, 0.0000, 0.0000, 0.0000, 0.0000, 0.0000, 0.0000, 0.0000, 0.1176,\n",
      "         0.1412, 0.3686, 0.6039, 0.6667, 0.9922, 0.9922, 0.9922, 0.9922, 0.9922,\n",
      "         0.8824, 0.6745, 0.9922, 0.9490, 0.7647, 0.2510, 0.0000, 0.0000, 0.0000,\n",
      "         0.0000],\n",
      "        [0.0000, 0.0000, 0.0000, 0.0000, 0.0000, 0.0000, 0.0000, 0.1922, 0.9333,\n",
      "         0.9922, 0.9922, 0.9922, 0.9922, 0.9922, 0.9922, 0.9922, 0.9922, 0.9843,\n",
      "         0.3647, 0.3216, 0.3216, 0.2196, 0.1529, 0.0000, 0.0000, 0.0000, 0.0000,\n",
      "         0.0000],\n",
      "        [0.0000, 0.0000, 0.0000, 0.0000, 0.0000, 0.0000, 0.0000, 0.0706, 0.8588,\n",
      "         0.9922, 0.9922, 0.9922, 0.9922, 0.9922, 0.7765, 0.7137, 0.9686, 0.9451,\n",
      "         0.0000, 0.0000, 0.0000, 0.0000, 0.0000, 0.0000, 0.0000, 0.0000, 0.0000,\n",
      "         0.0000],\n",
      "        [0.0000, 0.0000, 0.0000, 0.0000, 0.0000, 0.0000, 0.0000, 0.0000, 0.3137,\n",
      "         0.6118, 0.4196, 0.9922, 0.9922, 0.8039, 0.0431, 0.0000, 0.1686, 0.6039,\n",
      "         0.0000, 0.0000, 0.0000, 0.0000, 0.0000, 0.0000, 0.0000, 0.0000, 0.0000,\n",
      "         0.0000],\n",
      "        [0.0000, 0.0000, 0.0000, 0.0000, 0.0000, 0.0000, 0.0000, 0.0000, 0.0000,\n",
      "         0.0549, 0.0039, 0.6039, 0.9922, 0.3529, 0.0000, 0.0000, 0.0000, 0.0000,\n",
      "         0.0000, 0.0000, 0.0000, 0.0000, 0.0000, 0.0000, 0.0000, 0.0000, 0.0000,\n",
      "         0.0000],\n",
      "        [0.0000, 0.0000, 0.0000, 0.0000, 0.0000, 0.0000, 0.0000, 0.0000, 0.0000,\n",
      "         0.0000, 0.0000, 0.5451, 0.9922, 0.7451, 0.0078, 0.0000, 0.0000, 0.0000,\n",
      "         0.0000, 0.0000, 0.0000, 0.0000, 0.0000, 0.0000, 0.0000, 0.0000, 0.0000,\n",
      "         0.0000],\n",
      "        [0.0000, 0.0000, 0.0000, 0.0000, 0.0000, 0.0000, 0.0000, 0.0000, 0.0000,\n",
      "         0.0000, 0.0000, 0.0431, 0.7451, 0.9922, 0.2745, 0.0000, 0.0000, 0.0000,\n",
      "         0.0000, 0.0000, 0.0000, 0.0000, 0.0000, 0.0000, 0.0000, 0.0000, 0.0000,\n",
      "         0.0000],\n",
      "        [0.0000, 0.0000, 0.0000, 0.0000, 0.0000, 0.0000, 0.0000, 0.0000, 0.0000,\n",
      "         0.0000, 0.0000, 0.0000, 0.1373, 0.9451, 0.8824, 0.6275, 0.4235, 0.0039,\n",
      "         0.0000, 0.0000, 0.0000, 0.0000, 0.0000, 0.0000, 0.0000, 0.0000, 0.0000,\n",
      "         0.0000],\n",
      "        [0.0000, 0.0000, 0.0000, 0.0000, 0.0000, 0.0000, 0.0000, 0.0000, 0.0000,\n",
      "         0.0000, 0.0000, 0.0000, 0.0000, 0.3176, 0.9412, 0.9922, 0.9922, 0.4667,\n",
      "         0.0980, 0.0000, 0.0000, 0.0000, 0.0000, 0.0000, 0.0000, 0.0000, 0.0000,\n",
      "         0.0000],\n",
      "        [0.0000, 0.0000, 0.0000, 0.0000, 0.0000, 0.0000, 0.0000, 0.0000, 0.0000,\n",
      "         0.0000, 0.0000, 0.0000, 0.0000, 0.0000, 0.1765, 0.7294, 0.9922, 0.9922,\n",
      "         0.5882, 0.1059, 0.0000, 0.0000, 0.0000, 0.0000, 0.0000, 0.0000, 0.0000,\n",
      "         0.0000],\n",
      "        [0.0000, 0.0000, 0.0000, 0.0000, 0.0000, 0.0000, 0.0000, 0.0000, 0.0000,\n",
      "         0.0000, 0.0000, 0.0000, 0.0000, 0.0000, 0.0000, 0.0627, 0.3647, 0.9882,\n",
      "         0.9922, 0.7333, 0.0000, 0.0000, 0.0000, 0.0000, 0.0000, 0.0000, 0.0000,\n",
      "         0.0000],\n",
      "        [0.0000, 0.0000, 0.0000, 0.0000, 0.0000, 0.0000, 0.0000, 0.0000, 0.0000,\n",
      "         0.0000, 0.0000, 0.0000, 0.0000, 0.0000, 0.0000, 0.0000, 0.0000, 0.9765,\n",
      "         0.9922, 0.9765, 0.2510, 0.0000, 0.0000, 0.0000, 0.0000, 0.0000, 0.0000,\n",
      "         0.0000],\n",
      "        [0.0000, 0.0000, 0.0000, 0.0000, 0.0000, 0.0000, 0.0000, 0.0000, 0.0000,\n",
      "         0.0000, 0.0000, 0.0000, 0.0000, 0.0000, 0.1804, 0.5098, 0.7176, 0.9922,\n",
      "         0.9922, 0.8118, 0.0078, 0.0000, 0.0000, 0.0000, 0.0000, 0.0000, 0.0000,\n",
      "         0.0000],\n",
      "        [0.0000, 0.0000, 0.0000, 0.0000, 0.0000, 0.0000, 0.0000, 0.0000, 0.0000,\n",
      "         0.0000, 0.0000, 0.0000, 0.1529, 0.5804, 0.8980, 0.9922, 0.9922, 0.9922,\n",
      "         0.9804, 0.7137, 0.0000, 0.0000, 0.0000, 0.0000, 0.0000, 0.0000, 0.0000,\n",
      "         0.0000],\n",
      "        [0.0000, 0.0000, 0.0000, 0.0000, 0.0000, 0.0000, 0.0000, 0.0000, 0.0000,\n",
      "         0.0000, 0.0941, 0.4471, 0.8667, 0.9922, 0.9922, 0.9922, 0.9922, 0.7882,\n",
      "         0.3059, 0.0000, 0.0000, 0.0000, 0.0000, 0.0000, 0.0000, 0.0000, 0.0000,\n",
      "         0.0000],\n",
      "        [0.0000, 0.0000, 0.0000, 0.0000, 0.0000, 0.0000, 0.0000, 0.0000, 0.0902,\n",
      "         0.2588, 0.8353, 0.9922, 0.9922, 0.9922, 0.9922, 0.7765, 0.3176, 0.0078,\n",
      "         0.0000, 0.0000, 0.0000, 0.0000, 0.0000, 0.0000, 0.0000, 0.0000, 0.0000,\n",
      "         0.0000],\n",
      "        [0.0000, 0.0000, 0.0000, 0.0000, 0.0000, 0.0000, 0.0706, 0.6706, 0.8588,\n",
      "         0.9922, 0.9922, 0.9922, 0.9922, 0.7647, 0.3137, 0.0353, 0.0000, 0.0000,\n",
      "         0.0000, 0.0000, 0.0000, 0.0000, 0.0000, 0.0000, 0.0000, 0.0000, 0.0000,\n",
      "         0.0000],\n",
      "        [0.0000, 0.0000, 0.0000, 0.0000, 0.2157, 0.6745, 0.8863, 0.9922, 0.9922,\n",
      "         0.9922, 0.9922, 0.9569, 0.5216, 0.0431, 0.0000, 0.0000, 0.0000, 0.0000,\n",
      "         0.0000, 0.0000, 0.0000, 0.0000, 0.0000, 0.0000, 0.0000, 0.0000, 0.0000,\n",
      "         0.0000],\n",
      "        [0.0000, 0.0000, 0.0000, 0.0000, 0.5333, 0.9922, 0.9922, 0.9922, 0.8314,\n",
      "         0.5294, 0.5176, 0.0627, 0.0000, 0.0000, 0.0000, 0.0000, 0.0000, 0.0000,\n",
      "         0.0000, 0.0000, 0.0000, 0.0000, 0.0000, 0.0000, 0.0000, 0.0000, 0.0000,\n",
      "         0.0000],\n",
      "        [0.0000, 0.0000, 0.0000, 0.0000, 0.0000, 0.0000, 0.0000, 0.0000, 0.0000,\n",
      "         0.0000, 0.0000, 0.0000, 0.0000, 0.0000, 0.0000, 0.0000, 0.0000, 0.0000,\n",
      "         0.0000, 0.0000, 0.0000, 0.0000, 0.0000, 0.0000, 0.0000, 0.0000, 0.0000,\n",
      "         0.0000],\n",
      "        [0.0000, 0.0000, 0.0000, 0.0000, 0.0000, 0.0000, 0.0000, 0.0000, 0.0000,\n",
      "         0.0000, 0.0000, 0.0000, 0.0000, 0.0000, 0.0000, 0.0000, 0.0000, 0.0000,\n",
      "         0.0000, 0.0000, 0.0000, 0.0000, 0.0000, 0.0000, 0.0000, 0.0000, 0.0000,\n",
      "         0.0000],\n",
      "        [0.0000, 0.0000, 0.0000, 0.0000, 0.0000, 0.0000, 0.0000, 0.0000, 0.0000,\n",
      "         0.0000, 0.0000, 0.0000, 0.0000, 0.0000, 0.0000, 0.0000, 0.0000, 0.0000,\n",
      "         0.0000, 0.0000, 0.0000, 0.0000, 0.0000, 0.0000, 0.0000, 0.0000, 0.0000,\n",
      "         0.0000]])\n",
      "Shape of y: 5\n"
     ]
    }
   ],
   "source": [
    "# when pulling direct from the dataset then N goes away and y is an int\n",
    "for X, y in dataset1:\n",
    "    print(f\"Shape of X [C, H, W]: {X.shape}\")\n",
    "    print(f\"C has type {X[0][0].dtype} and value {X[0]}\")\n",
    "    print(f\"Shape of y: {y}\")\n",
    "    break\n"
   ]
  },
  {
   "cell_type": "code",
   "execution_count": 9,
   "id": "c8210537-cba6-42fd-9619-e22b5f1017de",
   "metadata": {},
   "outputs": [],
   "source": [
    "threes = [x.flatten(end_dim=1) for x, y in dataset1 if y == 3]\n",
    "sevens = [x.flatten(end_dim=1) for x, y in dataset1 if y == 7]\n"
   ]
  },
  {
   "cell_type": "code",
   "execution_count": 10,
   "id": "3c5f2973-369e-44d7-b34f-d0c5554e30f2",
   "metadata": {},
   "outputs": [
    {
     "name": "stdout",
     "output_type": "stream",
     "text": [
      "(6131, 6265)\n",
      "torch.float32\n"
     ]
    }
   ],
   "source": [
    "print((len(threes), len(sevens)))\n",
    "print(threes[0].dtype)"
   ]
  },
  {
   "cell_type": "code",
   "execution_count": 11,
   "id": "b6c6dbb6-fbac-45cd-b7e3-cba2752e75de",
   "metadata": {},
   "outputs": [
    {
     "data": {
      "text/plain": [
       "torch.Size([6131, 28, 28])"
      ]
     },
     "execution_count": 11,
     "metadata": {},
     "output_type": "execute_result"
    }
   ],
   "source": [
    "stacked_threes = torch.stack(threes)\n",
    "stacked_sevens = torch.stack(sevens)\n",
    "stacked_threes.shape"
   ]
  },
  {
   "cell_type": "code",
   "execution_count": 12,
   "id": "e00ac627-cfdd-454b-acc7-5f1552781ecc",
   "metadata": {},
   "outputs": [
    {
     "data": {
      "image/png": "[encoded data removed]",
      "text/plain": [
       "<Figure size 2800x2800 with 5 Axes>"
      ]
     },
     "metadata": {},
     "output_type": "display_data"
    }
   ],
   "source": [
    "mean3 = stacked_threes.mean(0)\n",
    "mean7 = stacked_sevens.mean(0)\n",
    "a_3 = stacked_threes[1]\n",
    "a_7 = stacked_sevens[1]\n",
    "figure = plt.figure(figsize=(28, 28))\n",
    "\n",
    "#figure.add_subplot(rows, cols, i)\n",
    "plt.axis(\"off\")\n",
    "subplot3mean = plt.subplot(221)\n",
    "plt.imshow(mean3, cmap=\"gray\")\n",
    "subplot3 = plt.subplot(222)\n",
    "plt.imshow(a_3, cmap=\"gray\")\n",
    "subplot7mean = plt.subplot(223)\n",
    "plt.imshow(mean7, cmap=\"gray\")\n",
    "subplot7 = plt.subplot(224)\n",
    "plt.imshow(a_7, cmap=\"gray\")\n",
    "plt.show()\n"
   ]
  },
  {
   "cell_type": "code",
   "execution_count": 13,
   "id": "87462425-acbf-482f-a6e3-07ab69c114ea",
   "metadata": {},
   "outputs": [
    {
     "name": "stdout",
     "output_type": "stream",
     "text": [
      "(tensor(0.1074), tensor(0.1912))\n",
      "(tensor(0.1441), tensor(0.2780))\n"
     ]
    }
   ],
   "source": [
    "import torch.nn.functional as F\n",
    "# L1 loss gives mean abs value of diff (l1 norm), mse_loss gives mean squared error\n",
    "print((F.l1_loss(a_3.float(),mean3), F.mse_loss(a_3,mean3).sqrt()))\n",
    "\n",
    "print((F.l1_loss(a_3.float(),mean7), F.mse_loss(a_3,mean7).sqrt()))\n"
   ]
  },
  {
   "cell_type": "code",
   "execution_count": 14,
   "id": "90bb7395-418d-4de3-9f38-81b2918ba066",
   "metadata": {},
   "outputs": [],
   "source": [
    "dataset2 = datasets.MNIST('./data/valid', train=False, download=True,transform=transform)\n"
   ]
  },
  {
   "cell_type": "markdown",
   "id": "96b5e065-9de1-4330-86d5-d96b7b6b351a",
   "metadata": {},
   "source": [
    "Above we see that both l1 and l2 losses are smaller when comparing a three to the mean of threes vs a seven"
   ]
  },
  {
   "cell_type": "code",
   "execution_count": 15,
   "id": "02022ae0-454d-4f67-b409-8e129ba3e959",
   "metadata": {},
   "outputs": [],
   "source": [
    "dataset2 = datasets.MNIST('./data/valid', train=False, download=True,transform=transform)\n",
    "test_kwargs = {'batch_size': 64}\n",
    "test_loader = torch.utils.data.DataLoader(dataset2,**train_kwargs, shuffle=True)\n"
   ]
  },
  {
   "cell_type": "code",
   "execution_count": null,
   "id": "8cb80d97-2a5e-4e2f-ae24-34884230fd49",
   "metadata": {},
   "outputs": [],
   "source": []
  },
  {
   "cell_type": "code",
   "execution_count": 16,
   "id": "7e1559de-c1ab-4ea6-851d-30ea6d2f819d",
   "metadata": {},
   "outputs": [
    {
     "data": {
      "text/plain": [
       "torch.Size([1010, 28, 28])"
      ]
     },
     "execution_count": 16,
     "metadata": {},
     "output_type": "execute_result"
    }
   ],
   "source": [
    "valid_3_tens = torch.stack([x.flatten(end_dim=1) for x, y in dataset2 if y == 3])\n",
    "valid_7_tens = torch.stack([x.flatten(end_dim=1) for x, y in dataset2 if y == 7])\n",
    "valid_3_tens.shape"
   ]
  },
  {
   "cell_type": "code",
   "execution_count": 17,
   "id": "fe0edaca-d7a8-4e29-9d74-556ed06bad70",
   "metadata": {},
   "outputs": [
    {
     "data": {
      "text/plain": [
       "torch.Size([1010, 28, 28])"
      ]
     },
     "execution_count": 17,
     "metadata": {},
     "output_type": "execute_result"
    }
   ],
   "source": [
    "test = mean3.unsqueeze(0)\n",
    "test = test.expand(1010,-1, -1)\n",
    "test.shape"
   ]
  },
  {
   "cell_type": "code",
   "execution_count": 18,
   "id": "a8dd7c21-ba6f-4c30-8dcf-c04e3ce0371e",
   "metadata": {},
   "outputs": [
    {
     "data": {
      "text/plain": [
       "tensor(0.0559)"
      ]
     },
     "execution_count": 18,
     "metadata": {},
     "output_type": "execute_result"
    }
   ],
   "source": [
    "F.mse_loss(valid_3_tens,test)"
   ]
  },
  {
   "cell_type": "code",
   "execution_count": 19,
   "id": "1d076ada-fbf2-4690-9e95-7efbe93c5a9e",
   "metadata": {},
   "outputs": [],
   "source": [
    "def mnist_distance(a,b): return (a-b).abs().mean((-1,-2))"
   ]
  },
  {
   "cell_type": "code",
   "execution_count": 20,
   "id": "ee2dacb4-9b06-46f9-b9fa-a4cba33b99e8",
   "metadata": {},
   "outputs": [
    {
     "data": {
      "text/plain": [
       "(tensor([0.1789, 0.1170, 0.1271,  ..., 0.1508, 0.1263, 0.1260]),\n",
       " torch.Size([1010]))"
      ]
     },
     "execution_count": 20,
     "metadata": {},
     "output_type": "execute_result"
    }
   ],
   "source": [
    "valid_3_dist = mnist_distance(valid_3_tens, mean3)\n",
    "valid_3_dist, valid_3_dist.shape"
   ]
  },
  {
   "cell_type": "code",
   "execution_count": 21,
   "id": "881cfad2-8a34-45f8-80f4-996a71501808",
   "metadata": {},
   "outputs": [],
   "source": [
    "def is_3(x): return mnist_distance(x,mean3) < mnist_distance(x,mean7)"
   ]
  },
  {
   "cell_type": "code",
   "execution_count": 22,
   "id": "cfd01a62-f50e-4c5c-9793-04e355f5b0a9",
   "metadata": {},
   "outputs": [
    {
     "data": {
      "text/plain": [
       "(tensor(True), tensor(1.))"
      ]
     },
     "execution_count": 22,
     "metadata": {},
     "output_type": "execute_result"
    }
   ],
   "source": [
    "is_3(a_3), is_3(a_3).float()"
   ]
  },
  {
   "cell_type": "code",
   "execution_count": 23,
   "id": "5827031e-7db7-496d-a00f-d495fcb3ec84",
   "metadata": {},
   "outputs": [
    {
     "data": {
      "text/plain": [
       "tensor([ True,  True,  True,  ..., False,  True,  True])"
      ]
     },
     "execution_count": 23,
     "metadata": {},
     "output_type": "execute_result"
    }
   ],
   "source": [
    "is_3(valid_3_tens)"
   ]
  },
  {
   "cell_type": "code",
   "execution_count": 24,
   "id": "f82e41b1-4531-4f44-91bb-1c7c8e261bd3",
   "metadata": {},
   "outputs": [
    {
     "data": {
      "text/plain": [
       "(tensor(0.9168), tensor(0.9854), tensor(0.9511))"
      ]
     },
     "execution_count": 24,
     "metadata": {},
     "output_type": "execute_result"
    }
   ],
   "source": [
    "accuracy_3s =      is_3(valid_3_tens).float() .mean()\n",
    "accuracy_7s = (1 - is_3(valid_7_tens).float()).mean()\n",
    "\n",
    "accuracy_3s,accuracy_7s,(accuracy_3s+accuracy_7s)/2"
   ]
  },
  {
   "cell_type": "markdown",
   "id": "061c9832-4fc9-4cc2-a258-171d36de0baa",
   "metadata": {},
   "source": [
    "Up to this point our digit classifier is just comparing the digit to the averaged digit from averaging all the training images.\n",
    "If its is reporting the image to be closer to a 3 than a 7 then it reports it as a 3 and vice versa\n",
    "There is no learning right now, just a static classifier compared to an average"
   ]
  },
  {
   "cell_type": "code",
   "execution_count": 25,
   "id": "d8a5cf15-96d4-4857-bc93-ef5d77df015d",
   "metadata": {},
   "outputs": [],
   "source": [
    "train_x = torch.cat([stacked_threes, stacked_sevens]).view(-1, 28*28)"
   ]
  },
  {
   "cell_type": "code",
   "execution_count": 26,
   "id": "5fac0d1a-8738-4237-be6b-f620c0ead2a8",
   "metadata": {},
   "outputs": [
    {
     "data": {
      "text/plain": [
       "(torch.Size([12396, 784]), torch.Size([12396, 1]))"
      ]
     },
     "execution_count": 26,
     "metadata": {},
     "output_type": "execute_result"
    }
   ],
   "source": [
    "train_y = torch.tensor([1]*len(threes) + [0]*len(sevens)).unsqueeze(1)\n",
    "train_x.shape, train_y.shape"
   ]
  },
  {
   "cell_type": "code",
   "execution_count": 27,
   "id": "dcd439fb-6d8d-4344-8509-17a977c2f7db",
   "metadata": {},
   "outputs": [
    {
     "data": {
      "text/plain": [
       "(tensor([1]), tensor([0]))"
      ]
     },
     "execution_count": 27,
     "metadata": {},
     "output_type": "execute_result"
    }
   ],
   "source": [
    "train_y[12],train_y[12000]"
   ]
  },
  {
   "cell_type": "code",
   "execution_count": 28,
   "id": "cad0ebae-a97a-4847-8da5-5dadb91bb46e",
   "metadata": {},
   "outputs": [
    {
     "data": {
      "text/plain": [
       "(torch.Size([784]), tensor([1]))"
      ]
     },
     "execution_count": 28,
     "metadata": {},
     "output_type": "execute_result"
    }
   ],
   "source": [
    "dset = list(zip(train_x, train_y))\n",
    "x,y = dset[0]\n",
    "x.shape, y"
   ]
  },
  {
   "cell_type": "code",
   "execution_count": 29,
   "id": "32e825b2-0a1b-4016-9a83-fd9075e451e9",
   "metadata": {},
   "outputs": [],
   "source": [
    "valid_x = torch.cat([valid_3_tens, valid_7_tens]).view(-1, 28*28)\n",
    "valid_y = torch.tensor([1]*len(valid_3_tens) + [0]*len(valid_7_tens)).unsqueeze(1)\n",
    "valid_dset = list(zip(valid_x,valid_y))"
   ]
  },
  {
   "cell_type": "code",
   "execution_count": 30,
   "id": "7242907e-00e6-4b10-ad87-4ba5d1eb07e5",
   "metadata": {},
   "outputs": [],
   "source": [
    "def init_params(size, std=1.0): return (torch.randn(size)*std).requires_grad_() # note the training underscore setting the bool not returning it"
   ]
  },
  {
   "cell_type": "code",
   "execution_count": 31,
   "id": "d9703cd1-7f64-47bf-8fca-8a73cbd4b052",
   "metadata": {},
   "outputs": [],
   "source": [
    "weights = init_params((28*28,1))"
   ]
  },
  {
   "cell_type": "code",
   "execution_count": 32,
   "id": "31ead336-e9de-4539-9c3f-a2f7316828e2",
   "metadata": {},
   "outputs": [],
   "source": [
    "bias = init_params(1)"
   ]
  },
  {
   "cell_type": "code",
   "execution_count": 33,
   "id": "9885a8f3-1646-42d5-b2a9-9ca88deecd1a",
   "metadata": {},
   "outputs": [
    {
     "data": {
      "text/plain": [
       "tensor([3.6754], grad_fn=<AddBackward0>)"
      ]
     },
     "execution_count": 33,
     "metadata": {},
     "output_type": "execute_result"
    }
   ],
   "source": [
    "(train_x[0] * weights.T).sum() + bias"
   ]
  },
  {
   "cell_type": "code",
   "execution_count": 34,
   "id": "bfb671f7-b52a-4f6e-8246-7f5f81f8590a",
   "metadata": {},
   "outputs": [
    {
     "data": {
      "text/plain": [
       "tensor([[ 3.6754],\n",
       "        [ 1.6124],\n",
       "        [ 2.4629],\n",
       "        ...,\n",
       "        [-0.4907],\n",
       "        [-5.0159],\n",
       "        [ 2.4078]], grad_fn=<AddBackward0>)"
      ]
     },
     "execution_count": 34,
     "metadata": {},
     "output_type": "execute_result"
    }
   ],
   "source": [
    "def linear1(xb): return xb@weights + bias\n",
    "preds = linear1(train_x)\n",
    "preds"
   ]
  },
  {
   "cell_type": "code",
   "execution_count": 35,
   "id": "edbd4a3a-e161-464c-a45b-e1f71461da2c",
   "metadata": {},
   "outputs": [
    {
     "data": {
      "text/plain": [
       "tensor([[ True],\n",
       "        [ True],\n",
       "        [ True],\n",
       "        ...,\n",
       "        [ True],\n",
       "        [ True],\n",
       "        [False]])"
      ]
     },
     "execution_count": 35,
     "metadata": {},
     "output_type": "execute_result"
    }
   ],
   "source": [
    "corrects = (preds > 0.0).float() == train_y\n",
    "corrects"
   ]
  },
  {
   "cell_type": "code",
   "execution_count": 36,
   "id": "f11ef2cb-758d-412c-93ff-bb57bba31a6f",
   "metadata": {},
   "outputs": [
    {
     "data": {
      "text/plain": [
       "0.7883994579315186"
      ]
     },
     "execution_count": 36,
     "metadata": {},
     "output_type": "execute_result"
    }
   ],
   "source": [
    "corrects.float().mean().item() #item takes it out of a tensor and returns a normal float"
   ]
  },
  {
   "cell_type": "code",
   "execution_count": 37,
   "id": "d1754444-0578-4956-bd03-b1687e295f85",
   "metadata": {},
   "outputs": [
    {
     "data": {
      "text/plain": [
       "0.7883994579315186"
      ]
     },
     "execution_count": 37,
     "metadata": {},
     "output_type": "execute_result"
    }
   ],
   "source": [
    "with torch.no_grad(): weights[0] *= 1.0001 # need to use no_grad to do in place operation\n",
    "\n",
    "preds = linear1(train_x)\n",
    "((preds > 0.0).float() == train_y).float().mean().item()"
   ]
  },
  {
   "cell_type": "code",
   "execution_count": 38,
   "id": "bd043dd0-d3db-4319-8874-1baa0bbf6c53",
   "metadata": {},
   "outputs": [],
   "source": [
    "from torch import tensor\n",
    "trgts = tensor([1,0,1]) # three images labeled as a 3, 7, 3\n",
    "prds = tensor([0.9,0.4,0.2]) # simulated predictions, the last one is very off that it thinks its a 7"
   ]
  },
  {
   "cell_type": "code",
   "execution_count": 39,
   "id": "9b667eba-d1de-4e73-9809-0348d1b9698d",
   "metadata": {},
   "outputs": [],
   "source": [
    "def mnist_loss(predictions, targets):\n",
    "    return torch.where(targets==1, 1-predictions, predictions).mean() #cuda friendly list comprehension"
   ]
  },
  {
   "cell_type": "code",
   "execution_count": 40,
   "id": "3a6f1539-f336-4c1a-9b1d-343c85d204a5",
   "metadata": {},
   "outputs": [
    {
     "data": {
      "text/plain": [
       "tensor([0.1000, 0.4000, 0.8000])"
      ]
     },
     "execution_count": 40,
     "metadata": {},
     "output_type": "execute_result"
    }
   ],
   "source": [
    "torch.where(trgts==1, 1-prds, prds)"
   ]
  },
  {
   "cell_type": "code",
   "execution_count": 41,
   "id": "fe61ed93-b4d7-40ad-82cd-9f0da33b4557",
   "metadata": {},
   "outputs": [
    {
     "data": {
      "text/plain": [
       "tensor(0.4333)"
      ]
     },
     "execution_count": 41,
     "metadata": {},
     "output_type": "execute_result"
    }
   ],
   "source": [
    "\n",
    "mnist_loss(prds, trgts)"
   ]
  },
  {
   "cell_type": "code",
   "execution_count": 42,
   "id": "9b7a1c20-bf65-4df5-bbf5-ec51c384d113",
   "metadata": {},
   "outputs": [
    {
     "data": {
      "text/plain": [
       "tensor(0.2333)"
      ]
     },
     "execution_count": 42,
     "metadata": {},
     "output_type": "execute_result"
    }
   ],
   "source": [
    "mnist_loss(tensor([0.9,0.4,0.8]), trgts)"
   ]
  },
  {
   "cell_type": "code",
   "execution_count": 43,
   "id": "99299571-6174-4ae1-a29f-a097ac9b76f4",
   "metadata": {},
   "outputs": [
    {
     "data": {
      "text/plain": [
       "[<matplotlib.lines.Line2D at 0x7551e5f65a50>]"
      ]
     },
     "execution_count": 43,
     "metadata": {},
     "output_type": "execute_result"
    },
    {
     "data": {
      "image/png": "[encoded data removed]",
      "text/plain": [
       "<Figure size 640x480 with 1 Axes>"
      ]
     },
     "metadata": {},
     "output_type": "display_data"
    }
   ],
   "source": [
    "def sigmoid(x): return 1/(1+torch.exp(-x))\n",
    "\n",
    "import numpy as np\n",
    "x = tensor(np.linspace(-4, 4))\n",
    "y = torch.sigmoid(x)\n",
    "\n",
    "fig, ax = plt.subplots()\n",
    "ax.plot(x, y)\n"
   ]
  },
  {
   "cell_type": "code",
   "execution_count": 44,
   "id": "f899c39d-a6ba-489d-adaa-d72f0b7e3a8a",
   "metadata": {},
   "outputs": [],
   "source": [
    "def mnist_loss(predictions, targets):\n",
    "    predictions = predictions.sigmoid()\n",
    "    return torch.where(targets==1, 1-predictions, predictions).mean()"
   ]
  },
  {
   "cell_type": "markdown",
   "id": "d0b98899-ea8f-4657-81aa-e2277d479606",
   "metadata": {},
   "source": [
    "Training loop\n",
    "```\n",
    "for x, y in dl:\n",
    "    pred = model(x)\n",
    "    loss = loss_func(pred,y)\n",
    "    loss.backward()\n",
    "    parameters -= parameters.grad * lr\n",
    "```\n",
    "    "
   ]
  },
  {
   "cell_type": "code",
   "execution_count": 45,
   "id": "5fd244d2-7c9a-4935-b68b-32cd92d0e1a9",
   "metadata": {},
   "outputs": [
    {
     "data": {
      "text/plain": [
       "torch.Size([784, 1])"
      ]
     },
     "execution_count": 45,
     "metadata": {},
     "output_type": "execute_result"
    }
   ],
   "source": [
    "weights = init_params((28*28,1))\n",
    "bias = init_params(1)\n",
    "\n",
    "weights.shape"
   ]
  },
  {
   "cell_type": "code",
   "execution_count": 112,
   "id": "0eda3f33-5180-410f-a951-0a2f9db1566a",
   "metadata": {},
   "outputs": [],
   "source": [
    "train_kwargs = {'batch_size': 256}\n",
    "dataset1 = datasets.MNIST('./data', train=True, download=True,transform=transform)\n",
    "\n",
    "threes = [x.flatten(end_dim=1) for x, y in dataset1 if y == 3]\n",
    "sevens = [x.flatten(end_dim=1) for x, y in dataset1 if y == 7]\n",
    "\n",
    "stacked_threes = torch.stack(threes)\n",
    "stacked_sevens = torch.stack(sevens)\n",
    "train_x = torch.cat([stacked_threes, stacked_sevens]).view(-1, 28*28)\n",
    "train_y = tensor([1]*len(threes) + [0]*len(sevens)).unsqueeze(1)\n",
    "dset = list(zip(train_x,train_y))\n",
    "\n",
    "dl = torch.utils.data.DataLoader(dset,**train_kwargs, shuffle=True)"
   ]
  },
  {
   "cell_type": "code",
   "execution_count": 113,
   "id": "3f516b77-3857-4a98-8b15-7857ac676d0f",
   "metadata": {},
   "outputs": [],
   "source": [
    "dataset2 = datasets.MNIST('./data/valid', train=False, download=True,transform=transform)\n",
    "\n",
    "valid_3_tens = torch.stack([x.flatten(end_dim=1) for x, y in dataset2 if y == 3])\n",
    "valid_7_tens = torch.stack([x.flatten(end_dim=1) for x, y in dataset2 if y == 7])\n",
    "\n",
    "valid_x = torch.cat([valid_3_tens, valid_7_tens]).view(-1, 28*28)\n",
    "valid_y = tensor([1]*len(valid_3_tens) + [0]*len(valid_7_tens)).unsqueeze(1)\n",
    "valid_dset = list(zip(valid_x,valid_y))\n",
    "\n",
    "valid_dl = torch.utils.data.DataLoader(valid_dset,**train_kwargs, shuffle=True)"
   ]
  },
  {
   "cell_type": "code",
   "execution_count": 48,
   "id": "73e0e148-e100-4482-8a1e-c07c3cf8d610",
   "metadata": {},
   "outputs": [],
   "source": [
    "def linear1(xb): return xb@weights + bias\n"
   ]
  },
  {
   "cell_type": "code",
   "execution_count": 49,
   "id": "62f1f0c4-53b1-45e2-8104-5a2568ab7f84",
   "metadata": {},
   "outputs": [],
   "source": [
    "def calc_grad(xb, yb, model):\n",
    "    preds = model(xb)\n",
    "    loss = mnist_loss(preds, yb)\n",
    "    loss.backward()"
   ]
  },
  {
   "cell_type": "code",
   "execution_count": 50,
   "id": "70595f5d-559a-4802-862a-0f38935ad2c6",
   "metadata": {},
   "outputs": [],
   "source": [
    "def train_epoch(model, lr, params):\n",
    "    for xb, yb in dl:\n",
    "        #xb = xb.flatten(start_dim=1,end_dim=3) \n",
    "        #yb = yb.unsqueeze(1)\n",
    "        calc_grad(xb, yb, model)\n",
    "        for p in params:\n",
    "            #print(p.grad)\n",
    "            p.data -= p.grad * lr # can assign data instead of turning off grad to avoid calculating gradient of update\n",
    "            p.grad.zero_()\n",
    "            #print(p.grad)\n"
   ]
  },
  {
   "cell_type": "code",
   "execution_count": 51,
   "id": "316662c7-a49b-4705-8d1a-eadc4d82c391",
   "metadata": {},
   "outputs": [],
   "source": [
    "def batch_accuracy(xb, yb):\n",
    "    preds = xb.sigmoid()\n",
    "    correct = (preds>0.5) == yb\n",
    "    return correct.float().mean()"
   ]
  },
  {
   "cell_type": "code",
   "execution_count": 52,
   "id": "3bb5ee47-8227-4133-a6a4-ce754dc0e2e6",
   "metadata": {},
   "outputs": [],
   "source": [
    "def validate_epoch(model):\n",
    "    #accs = [batch_accuracy(model(xb.flatten(start_dim=1,end_dim=3)), yb.unsqueeze(1)) for xb, yb in valid_dl]\n",
    "    accs = [batch_accuracy(model(xb), yb) for xb, yb in valid_dl]\n",
    "    return round(torch.stack(accs).mean().item(), 4)"
   ]
  },
  {
   "cell_type": "code",
   "execution_count": 53,
   "id": "51cdf817-f3d1-46ea-acfa-699dc5d450cb",
   "metadata": {},
   "outputs": [
    {
     "data": {
      "text/plain": [
       "0.9195"
      ]
     },
     "execution_count": 53,
     "metadata": {},
     "output_type": "execute_result"
    }
   ],
   "source": [
    "lr = 1\n",
    "params = weights, bias\n",
    "train_epoch(linear1, lr, params)\n",
    "validate_epoch(linear1)"
   ]
  },
  {
   "cell_type": "code",
   "execution_count": 54,
   "id": "f2de4595-5058-41a6-afde-9250d5b20f1d",
   "metadata": {},
   "outputs": [
    {
     "data": {
      "text/plain": [
       "0.9445"
      ]
     },
     "execution_count": 54,
     "metadata": {},
     "output_type": "execute_result"
    }
   ],
   "source": [
    "train_epoch(linear1, lr, params)\n",
    "validate_epoch(linear1)"
   ]
  },
  {
   "cell_type": "code",
   "execution_count": 55,
   "id": "52d631fa-e2fa-48ea-9b8d-5be41b0a7b80",
   "metadata": {},
   "outputs": [
    {
     "name": "stdout",
     "output_type": "stream",
     "text": [
      "0.9529 0.9564 0.9597 0.9592 0.9597 0.9627 0.9627 0.9628 0.9637 0.9642 0.9647 0.9661 0.9682 0.9697 0.9702 "
     ]
    }
   ],
   "source": [
    "lr = 1\n",
    "for i in range(15):\n",
    "    #print(params[0])\n",
    "    train_epoch(linear1, lr, params)\n",
    "    print(validate_epoch(linear1), end=' ')\n"
   ]
  },
  {
   "cell_type": "markdown",
   "id": "19713030-00fe-4818-9d78-c39559b62d26",
   "metadata": {},
   "source": [
    "## Optimizer"
   ]
  },
  {
   "cell_type": "code",
   "execution_count": 56,
   "id": "2a9ef611-b0a4-404e-a20e-aeb470bfd025",
   "metadata": {},
   "outputs": [],
   "source": [
    "linear_model = nn.Linear(28*28,1) # 28*28 inputs, one output becomes a (1, 784) tensor i.e. row matrix"
   ]
  },
  {
   "cell_type": "code",
   "execution_count": 57,
   "id": "95e2c225-bf0c-4248-ae07-7dd3e66f8628",
   "metadata": {},
   "outputs": [
    {
     "data": {
      "text/plain": [
       "(torch.Size([1, 784]), torch.Size([1]))"
      ]
     },
     "execution_count": 57,
     "metadata": {},
     "output_type": "execute_result"
    }
   ],
   "source": [
    "w, b = linear_model.parameters()\n",
    "w.shape, b.shape"
   ]
  },
  {
   "cell_type": "code",
   "execution_count": 58,
   "id": "18b3784a-7ea9-4d4e-a713-fa8fd546137b",
   "metadata": {},
   "outputs": [],
   "source": [
    "class BasicOptim:\n",
    "    def __init__(self, params, lr): self.params, self.lr = list(params), lr\n",
    "    def step(self, *args, **kwargs):\n",
    "        for p in self.params: p.data -= p.grad.data * self.lr # todo: try again with turning off grad\n",
    "\n",
    "    def zero_grad(self, *args, **kwargs):\n",
    "        for p in self.params: p.grad = None\n",
    "                                                                "
   ]
  },
  {
   "cell_type": "code",
   "execution_count": 59,
   "id": "2dac2be2-63d3-4b6e-939d-a46f6abb1d6d",
   "metadata": {},
   "outputs": [],
   "source": [
    "lr = 1\n",
    "opt = BasicOptim(linear_model.parameters(), lr)"
   ]
  },
  {
   "cell_type": "code",
   "execution_count": 60,
   "id": "aa21b179-534d-4076-b0c8-f970cb57b598",
   "metadata": {},
   "outputs": [],
   "source": [
    "def train_epoch(model):\n",
    "    for xb, yb in dl:\n",
    "        calc_grad(xb, yb, model)\n",
    "        opt.step()\n",
    "        opt.zero_grad()"
   ]
  },
  {
   "cell_type": "code",
   "execution_count": 61,
   "id": "a1e6f81c-34a7-495e-8995-92d5127b51de",
   "metadata": {},
   "outputs": [
    {
     "data": {
      "text/plain": [
       "0.3329"
      ]
     },
     "execution_count": 61,
     "metadata": {},
     "output_type": "execute_result"
    }
   ],
   "source": [
    "validate_epoch(linear_model)"
   ]
  },
  {
   "cell_type": "code",
   "execution_count": 66,
   "id": "d014ba7f-0a08-4927-bae0-fe0bac26185b",
   "metadata": {},
   "outputs": [],
   "source": [
    "def train_model(model, epochs):\n",
    "    for i in range(epochs):\n",
    "        train_epoch(model)\n",
    "        print(validate_epoch(linear_model))"
   ]
  },
  {
   "cell_type": "code",
   "execution_count": null,
   "id": "8fc8738f-ec08-4d42-9776-c0edc23e21ff",
   "metadata": {},
   "outputs": [],
   "source": []
  },
  {
   "cell_type": "code",
   "execution_count": 67,
   "id": "2e4cf998-0110-4505-b346-9e5fa13818df",
   "metadata": {},
   "outputs": [
    {
     "name": "stdout",
     "output_type": "stream",
     "text": [
      "0.9823\n",
      "0.9838\n",
      "0.9823\n",
      "0.9829\n",
      "0.9844\n",
      "0.9844\n",
      "0.9844\n",
      "0.9838\n",
      "0.9848\n",
      "0.9843\n",
      "0.9848\n",
      "0.9843\n",
      "0.9834\n",
      "0.9834\n",
      "0.9829\n",
      "0.9829\n",
      "0.9843\n",
      "0.9844\n",
      "0.9828\n",
      "0.9848\n"
     ]
    }
   ],
   "source": [
    "train_model(linear_model, 20)"
   ]
  },
  {
   "cell_type": "markdown",
   "id": "00235c04-469e-49bc-8412-a725507fe114",
   "metadata": {},
   "source": [
    "## Adding nonlinearity"
   ]
  },
  {
   "cell_type": "code",
   "execution_count": 64,
   "id": "de3ef8cb-4a81-4477-8615-62bf5f912283",
   "metadata": {},
   "outputs": [],
   "source": [
    "def simple_net(xb):\n",
    "    res = xb@w1 + b1\n",
    "    res = res.max(tensor(0.0))\n",
    "    res = res@w2 + b2\n",
    "    return res"
   ]
  },
  {
   "cell_type": "code",
   "execution_count": 65,
   "id": "e9b15c37-90e8-4404-a790-41cbc8b5bbf1",
   "metadata": {},
   "outputs": [],
   "source": [
    "w1 = init_params((28*28,30))\n",
    "b1 = init_params(30)\n",
    "w2 = init_params((30, 1))\n",
    "b2 = init_params(1)\n"
   ]
  },
  {
   "cell_type": "code",
   "execution_count": 68,
   "id": "43c0018f-59dd-4f59-bf9e-3766d960076b",
   "metadata": {},
   "outputs": [
    {
     "name": "stdout",
     "output_type": "stream",
     "text": [
      "Using cuda device\n"
     ]
    }
   ],
   "source": [
    "device = (\n",
    "    \"cuda\"\n",
    "    if torch.cuda.is_available()\n",
    "    else \"mps\"\n",
    "    if torch.backends.mps.is_available()\n",
    "    else \"cpu\"\n",
    ")\n",
    "print(f\"Using {device} device\")"
   ]
  },
  {
   "cell_type": "code",
   "execution_count": 106,
   "id": "8ff7e4be-7bb7-4e94-b53a-0935f9da7da4",
   "metadata": {},
   "outputs": [],
   "source": [
    "def validate_epoch(model):\n",
    "    #accs = [batch_accuracy(model(xb.flatten(start_dim=1,end_dim=3)), yb.unsqueeze(1)) for xb, yb in valid_dl]\n",
    "    accs = [batch_accuracy(model(xb.to(device)), yb.to(device)) for xb, yb in valid_dl]\n",
    "    return round(torch.stack(accs).mean().item(), 4)"
   ]
  },
  {
   "cell_type": "code",
   "execution_count": 118,
   "id": "9caedc67-8584-461f-9c3f-27f22609f766",
   "metadata": {},
   "outputs": [],
   "source": [
    "model = nn.Sequential(\n",
    "    nn.Linear(28*28, 30),\n",
    "    nn.ReLU(),\n",
    "    nn.Linear(30,1)\n",
    ").to(\"cuda\")"
   ]
  },
  {
   "cell_type": "code",
   "execution_count": 119,
   "id": "9f004766-6386-4065-865a-0d223542bce5",
   "metadata": {},
   "outputs": [],
   "source": [
    "from torch.optim import SGD\n",
    "opt = SGD(model.parameters(), lr = 0.1)\n",
    "loss_history = []\n",
    "for epoch in range(40):\n",
    "    for x,y in dl:\n",
    "        x = x.to(device)\n",
    "        y = y.to(device)\n",
    "        opt.zero_grad()\n",
    "        loss = mnist_loss(model(x), y)\n",
    "        loss.backward()\n",
    "        opt.step()\n",
    "    loss_history.append((epoch, validate_epoch(model)))\n",
    "                          "
   ]
  },
  {
   "cell_type": "code",
   "execution_count": 120,
   "id": "75627af6-16fb-4fd7-a4c1-04db707ad0ec",
   "metadata": {},
   "outputs": [
    {
     "data": {
      "text/plain": [
       "[(0, 0.9686),\n",
       " (1, 0.9687),\n",
       " (2, 0.9716),\n",
       " (3, 0.9711),\n",
       " (4, 0.9725),\n",
       " (5, 0.9736),\n",
       " (6, 0.975),\n",
       " (7, 0.9755),\n",
       " (8, 0.9769),\n",
       " (9, 0.976),\n",
       " (10, 0.9765),\n",
       " (11, 0.977),\n",
       " (12, 0.977),\n",
       " (13, 0.9774),\n",
       " (14, 0.9779),\n",
       " (15, 0.9789),\n",
       " (16, 0.9795),\n",
       " (17, 0.9794),\n",
       " (18, 0.9794),\n",
       " (19, 0.9789),\n",
       " (20, 0.9794),\n",
       " (21, 0.9794),\n",
       " (22, 0.9794),\n",
       " (23, 0.9799),\n",
       " (24, 0.9799),\n",
       " (25, 0.9798),\n",
       " (26, 0.9803),\n",
       " (27, 0.9804),\n",
       " (28, 0.9809),\n",
       " (29, 0.9814),\n",
       " (30, 0.9818),\n",
       " (31, 0.9814),\n",
       " (32, 0.9823),\n",
       " (33, 0.9824),\n",
       " (34, 0.9828),\n",
       " (35, 0.9834),\n",
       " (36, 0.9828),\n",
       " (37, 0.9828),\n",
       " (38, 0.9823),\n",
       " (39, 0.9838)]"
      ]
     },
     "execution_count": 120,
     "metadata": {},
     "output_type": "execute_result"
    }
   ],
   "source": [
    "loss_history"
   ]
  },
  {
   "cell_type": "code",
   "execution_count": 107,
   "id": "20ad7df4-c647-4c59-90d7-ffd1b127d633",
   "metadata": {},
   "outputs": [
    {
     "data": {
      "text/plain": [
       "0.9819"
      ]
     },
     "execution_count": 107,
     "metadata": {},
     "output_type": "execute_result"
    }
   ],
   "source": [
    "validate_epoch(model)"
   ]
  },
  {
   "cell_type": "code",
   "execution_count": null,
   "id": "25354693-fb06-4b94-831d-bd3c13b9ea41",
   "metadata": {},
   "outputs": [],
   "source": []
  }
 ],
 "metadata": {
  "kernelspec": {
   "display_name": "Python 3 (ipykernel)",
   "language": "python",
   "name": "python3"
  },
  "language_info": {
   "codemirror_mode": {
    "name": "ipython",
    "version": 3
   },
   "file_extension": ".py",
   "mimetype": "text/x-python",
   "name": "python",
   "nbconvert_exporter": "python",
   "pygments_lexer": "ipython3",
   "version": "3.10.13"
  }
 },
 "nbformat": 4,
 "nbformat_minor": 5
}
